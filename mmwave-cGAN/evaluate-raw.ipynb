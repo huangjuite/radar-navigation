{
 "cells": [
  {
   "cell_type": "markdown",
   "metadata": {},
   "source": [
    "## cGAN generate LiDAR"
   ]
  },
  {
   "cell_type": "code",
   "execution_count": 45,
   "metadata": {},
   "outputs": [],
   "source": [
    "import os\n",
    "import io\n",
    "import cv2\n",
    "import copy\n",
    "import math\n",
    "import wandb\n",
    "import random\n",
    "import numpy as np\n",
    "import warnings\n",
    "import pickle as pkl\n",
    "from collections import deque\n",
    "from tqdm import tqdm, trange\n",
    "from typing import Deque, Dict, List, Tuple\n",
    "import matplotlib.pyplot as plt\n",
    "\n",
    "\n",
    "import torch\n",
    "import torch.nn as nn\n",
    "import torch.nn.functional as F\n",
    "import torch.optim as optim\n",
    "from torch.autograd import Variable\n",
    "from torch.utils.data.dataset import Dataset\n",
    "from torch.utils.data import DataLoader, random_split\n",
    "\n"
   ]
  },
  {
   "cell_type": "markdown",
   "metadata": {},
   "source": [
    "## dataset"
   ]
  },
  {
   "cell_type": "code",
   "execution_count": 2,
   "metadata": {
    "scrolled": true
   },
   "outputs": [
    {
     "name": "stdout",
     "output_type": "stream",
     "text": [
      "153 episodes\n",
      "31 episodes\n"
     ]
    }
   ],
   "source": [
    "\n",
    "name_corridor = ['0717_1411', \n",
    "                '0720_1129',\n",
    "                '0722_1428',\n",
    "                '0722_1437',\n",
    "                '0722_1448',\n",
    "                '0722_1500',\n",
    "                '0722_1506',\n",
    "                '0722_1510',\n",
    "                '0722_1514',\n",
    "                '0724_1101',\n",
    "                '0724_1132',\n",
    "                '0724_1204',\n",
    "                '0727_1005',\n",
    "                '0727_1027',\n",
    "                '0727_1102',\n",
    "                '0727_1435',\n",
    "                '0727_1452',\n",
    "                '0727_1510',\n",
    "                '0727_1520',\n",
    "                '0805_1108',\n",
    "                '0805_1127',\n",
    "                '0805_1147']\n",
    "\n",
    "name_parking = ['0717_1504',\n",
    "                '0720_1105',\n",
    "                '0805_1349',\n",
    "                '0805_1425']\n",
    "\n",
    "paths_corridor, paths_parking = [], []\n",
    "\n",
    "main_path = '/media/ray/intelSSD/mmdemo_train'\n",
    "dirs = os.listdir(main_path)\n",
    "dirs.sort()\n",
    "for d in dirs:\n",
    "    dirs1 = os.listdir(main_path+'/'+d)\n",
    "    dirs1.sort()\n",
    "    dirs2 = os.listdir(main_path+'/'+d+'/'+dirs1[1])\n",
    "    dirs2.sort()\n",
    "    for d2 in dirs2:\n",
    "        if any(s in d2 for s in name_corridor):\n",
    "            paths_corridor.append(main_path+'/'+d+'/'+dirs1[1]+'/'+d2)\n",
    "#             print(paths_corridor[-1])\n",
    "        elif any(s in d2 for s in name_parking):\n",
    "            paths_parking.append(main_path+'/'+d+'/'+dirs1[1]+'/'+d2)\n",
    "#             print(paths_parking[-1])\n",
    "            \n",
    "print('%d episodes'%len(paths_corridor))\n",
    "print('%d episodes'%len(paths_parking))\n"
   ]
  },
  {
   "cell_type": "code",
   "execution_count": 3,
   "metadata": {},
   "outputs": [
    {
     "name": "stderr",
     "output_type": "stream",
     "text": [
      "100%|██████████| 153/153 [00:01<00:00, 92.93it/s]\n",
      "100%|██████████| 31/31 [00:00<00:00, 92.21it/s]\n"
     ]
    }
   ],
   "source": [
    "class MMDataset(Dataset):\n",
    "    def __init__(self, paths):\n",
    "        self.transitions = []\n",
    "\n",
    "        for p in tqdm(paths):\n",
    "            with open(p, \"rb\") as f:\n",
    "                demo = pkl.load(f, encoding=\"bytes\")\n",
    "                self.transitions.extend(demo)\n",
    "        \n",
    "    def __getitem__(self,index):\n",
    "        mm_scan = self.transitions[index][b'mm_scan']\n",
    "        laser_scan = self.transitions[index][b'laser_scan']\n",
    "        mm_scan = torch.Tensor(mm_scan).reshape(1,-1)\n",
    "        laser_scan = torch.Tensor(laser_scan).reshape(1,-1)\n",
    "        \n",
    "        return mm_scan, laser_scan\n",
    "    \n",
    "    def __len__(self):\n",
    "        return len(self.transitions)\n",
    "\n",
    "    \n",
    "batch_size = 128\n",
    "\n",
    "corridor_dataset = MMDataset(paths_corridor)\n",
    "loader_corridor = DataLoader(dataset=corridor_dataset,\n",
    "                    batch_size=batch_size,\n",
    "                    shuffle=True,\n",
    "                    num_workers=4)\n",
    "\n",
    "parking_dataset = MMDataset(paths_parking)\n",
    "loader_parking = DataLoader(dataset=parking_dataset,\n",
    "                    batch_size=batch_size,\n",
    "                    shuffle=True,\n",
    "                    num_workers=4)\n"
   ]
  },
  {
   "cell_type": "markdown",
   "metadata": {},
   "source": [
    "## fit"
   ]
  },
  {
   "cell_type": "code",
   "execution_count": 4,
   "metadata": {},
   "outputs": [],
   "source": [
    "def laser_visual(lasers=[], show=False, range_limit=6):\n",
    "    fig = plt.figure(figsize=(8, 8))\n",
    "    colors = ['#3483EB','#FFA500','#15B01D']\n",
    "    for i, l in enumerate(lasers):\n",
    "        \n",
    "        angle = 120\n",
    "        xp = []\n",
    "        yp = []\n",
    "        for r in l:\n",
    "            if r <= range_limit:\n",
    "                yp.append(r * math.cos(math.radians(angle)))\n",
    "                xp.append(r * math.sin(math.radians(angle)))\n",
    "            angle -= 1\n",
    "        plt.xlim(-6, 6)\n",
    "        plt.ylim(-6, 6)\n",
    "        plt.axis('off')\n",
    "        plt.plot(xp, yp, 'x', color=colors[i])\n",
    "#         plt.show()\n"
   ]
  },
  {
   "cell_type": "code",
   "execution_count": 58,
   "metadata": {},
   "outputs": [],
   "source": [
    "def curve_fit(mm, order = 15):\n",
    "    with warnings.catch_warnings():\n",
    "        warnings.simplefilter('ignore', np.RankWarning)\n",
    "        indx = np.where(mm<4.9)[0]\n",
    "        if len(indx)==0: return mm\n",
    "        \n",
    "        try:\n",
    "            z = np.polyfit(indx, mm[indx], order)\n",
    "        except:\n",
    "            return mm\n",
    "        \n",
    "        xp = np.linspace(0, 240, 241)\n",
    "        p = np.poly1d(z)\n",
    "\n",
    "        fit = np.clip(p(xp), 0, 5)\n",
    "    #     plt.plot(indx,mm[indx],'o')\n",
    "    #     plt.plot(xp, fit)\n",
    "\n",
    "        return fit"
   ]
  },
  {
   "cell_type": "code",
   "execution_count": 99,
   "metadata": {},
   "outputs": [
    {
     "data": {
      "image/png": "[encoded data removed]",
      "text/plain": [
       "<Figure size 576x576 with 1 Axes>"
      ]
     },
     "metadata": {
      "needs_background": "light"
     },
     "output_type": "display_data"
    }
   ],
   "source": [
    "for mm_scan, laser_scan in loader_parking:\n",
    "    mm_scan = mm_scan.numpy()[0][0]\n",
    "    laser_scan = laser_scan.numpy()[0][0]\n",
    "    \n",
    "    fit = curve_fit(mm_scan)\n",
    "    laser_visual([laser_scan, fit, mm_scan], range_limit=4.9)\n",
    "    \n",
    "    break"
   ]
  },
  {
   "cell_type": "markdown",
   "metadata": {},
   "source": [
    "## L1"
   ]
  },
  {
   "cell_type": "code",
   "execution_count": 7,
   "metadata": {},
   "outputs": [],
   "source": [
    "l1 = nn.L1Loss()"
   ]
  },
  {
   "cell_type": "markdown",
   "metadata": {},
   "source": [
    "### L1 curve fit"
   ]
  },
  {
   "cell_type": "code",
   "execution_count": 67,
   "metadata": {},
   "outputs": [
    {
     "name": "stderr",
     "output_type": "stream",
     "text": [
      " 11%|█▏        | 66/582 [00:01<00:14, 35.05it/s]/home/ray/.local/lib/python3.6/site-packages/numpy/lib/polynomial.py:630: RuntimeWarning: invalid value encountered in true_divide\n",
      "  lhs /= scale\n",
      " 34%|███▍      | 198/582 [00:05<00:11, 34.89it/s]/home/ray/.local/lib/python3.6/site-packages/numpy/lib/polynomial.py:630: RuntimeWarning: invalid value encountered in true_divide\n",
      "  lhs /= scale\n",
      "100%|██████████| 582/582 [00:16<00:00, 35.21it/s]\n",
      "  3%|▎         | 15/582 [00:00<00:19, 29.39it/s]/home/ray/.local/lib/python3.6/site-packages/numpy/lib/polynomial.py:630: RuntimeWarning: invalid value encountered in true_divide\n",
      "  lhs /= scale\n",
      " 31%|███       | 179/582 [00:05<00:11, 34.40it/s]/home/ray/.local/lib/python3.6/site-packages/numpy/lib/polynomial.py:630: RuntimeWarning: invalid value encountered in true_divide\n",
      "  lhs /= scale\n",
      "100%|██████████| 582/582 [00:16<00:00, 34.51it/s]\n",
      "  1%|          | 6/582 [00:00<00:25, 22.70it/s]/home/ray/.local/lib/python3.6/site-packages/numpy/lib/polynomial.py:630: RuntimeWarning: invalid value encountered in true_divide\n",
      "  lhs /= scale\n",
      " 54%|█████▍    | 314/582 [00:09<00:07, 34.18it/s]/home/ray/.local/lib/python3.6/site-packages/numpy/lib/polynomial.py:630: RuntimeWarning: invalid value encountered in true_divide\n",
      "  lhs /= scale\n",
      "100%|██████████| 582/582 [00:17<00:00, 33.66it/s]\n",
      " 13%|█▎        | 74/582 [00:02<00:15, 33.74it/s]/home/ray/.local/lib/python3.6/site-packages/numpy/lib/polynomial.py:630: RuntimeWarning: invalid value encountered in true_divide\n",
      "  lhs /= scale\n",
      " 88%|████████▊ | 510/582 [00:15<00:02, 33.15it/s]/home/ray/.local/lib/python3.6/site-packages/numpy/lib/polynomial.py:630: RuntimeWarning: invalid value encountered in true_divide\n",
      "  lhs /= scale\n",
      "100%|██████████| 582/582 [00:17<00:00, 32.96it/s]\n",
      "  1%|          | 6/582 [00:00<00:26, 21.42it/s]/home/ray/.local/lib/python3.6/site-packages/numpy/lib/polynomial.py:630: RuntimeWarning: invalid value encountered in true_divide\n",
      "  lhs /= scale\n",
      " 33%|███▎      | 190/582 [00:05<00:12, 32.60it/s]/home/ray/.local/lib/python3.6/site-packages/numpy/lib/polynomial.py:630: RuntimeWarning: invalid value encountered in true_divide\n",
      "  lhs /= scale\n",
      "100%|██████████| 582/582 [00:18<00:00, 32.21it/s]\n",
      " 19%|█▉        | 110/582 [00:03<00:14, 31.94it/s]/home/ray/.local/lib/python3.6/site-packages/numpy/lib/polynomial.py:630: RuntimeWarning: invalid value encountered in true_divide\n",
      "  lhs /= scale\n",
      " 80%|████████  | 466/582 [00:14<00:03, 31.02it/s]/home/ray/.local/lib/python3.6/site-packages/numpy/lib/polynomial.py:630: RuntimeWarning: invalid value encountered in true_divide\n",
      "  lhs /= scale\n",
      "100%|██████████| 582/582 [00:18<00:00, 31.77it/s]\n",
      " 38%|███▊      | 221/582 [00:07<00:11, 30.56it/s]/home/ray/.local/lib/python3.6/site-packages/numpy/lib/polynomial.py:630: RuntimeWarning: invalid value encountered in true_divide\n",
      "  lhs /= scale\n",
      " 90%|████████▉ | 522/582 [00:17<00:01, 31.11it/s]/home/ray/.local/lib/python3.6/site-packages/numpy/lib/polynomial.py:630: RuntimeWarning: invalid value encountered in true_divide\n",
      "  lhs /= scale\n",
      "100%|██████████| 582/582 [00:19<00:00, 30.51it/s]\n",
      "  7%|▋         | 39/582 [00:01<00:17, 30.19it/s]/home/ray/.local/lib/python3.6/site-packages/numpy/lib/polynomial.py:630: RuntimeWarning: invalid value encountered in true_divide\n",
      "  lhs /= scale\n",
      " 84%|████████▍ | 489/582 [00:16<00:03, 30.70it/s]/home/ray/.local/lib/python3.6/site-packages/numpy/lib/polynomial.py:630: RuntimeWarning: invalid value encountered in true_divide\n",
      "  lhs /= scale\n",
      "100%|██████████| 582/582 [00:19<00:00, 30.25it/s]\n",
      " 15%|█▍        | 87/582 [00:02<00:16, 29.73it/s]/home/ray/.local/lib/python3.6/site-packages/numpy/lib/polynomial.py:630: RuntimeWarning: invalid value encountered in true_divide\n",
      "  lhs /= scale\n",
      " 87%|████████▋ | 509/582 [00:17<00:02, 29.20it/s]/home/ray/.local/lib/python3.6/site-packages/numpy/lib/polynomial.py:630: RuntimeWarning: invalid value encountered in true_divide\n",
      "  lhs /= scale\n",
      "100%|██████████| 582/582 [00:19<00:00, 29.50it/s]\n",
      " 73%|███████▎  | 425/582 [00:14<00:05, 28.72it/s]/home/ray/.local/lib/python3.6/site-packages/numpy/lib/polynomial.py:630: RuntimeWarning: invalid value encountered in true_divide\n",
      "  lhs /= scale\n",
      " 81%|████████▏ | 473/582 [00:16<00:03, 28.40it/s]/home/ray/.local/lib/python3.6/site-packages/numpy/lib/polynomial.py:630: RuntimeWarning: invalid value encountered in true_divide\n",
      "  lhs /= scale\n",
      "100%|██████████| 582/582 [00:20<00:00, 28.71it/s]"
     ]
    },
    {
     "name": "stdout",
     "output_type": "stream",
     "text": [
      "\n",
      " order 0 corridor L1: 0.8438\n",
      "\n",
      " order 1 corridor L1: 0.7611\n",
      "\n",
      " order 2 corridor L1: 0.7764\n",
      "\n",
      " order 3 corridor L1: 0.7576\n",
      "\n",
      " order 4 corridor L1: 0.8034\n",
      "\n",
      " order 5 corridor L1: 0.8514\n",
      "\n",
      " order 6 corridor L1: 0.9150\n",
      "\n",
      " order 7 corridor L1: 0.9685\n",
      "\n",
      " order 8 corridor L1: 1.0108\n",
      "\n",
      " order 9 corridor L1: 1.0531\n"
     ]
    },
    {
     "name": "stderr",
     "output_type": "stream",
     "text": [
      "\n"
     ]
    }
   ],
   "source": [
    "l1_order = []\n",
    "for order in range(5,15):\n",
    "    L1 = []\n",
    "    t = tqdm(loader_corridor)\n",
    "    for mm_scan, laser_scan in t:\n",
    "        fit = []\n",
    "        mm_scan = mm_scan.numpy()\n",
    "        for mm in mm_scan:\n",
    "            fit.append([curve_fit(mm[0], order=order)])\n",
    "        fit = torch.Tensor(fit)\n",
    "        L1.append(l1(laser_scan,fit))\n",
    "    l1_order.append(np.mean(L1))\n",
    "\n",
    "for i, l in enumerate(l1_order):\n",
    "    print(\"\\n order %d corridor L1: %.4f\"%(i+5,l))"
   ]
  },
  {
   "cell_type": "code",
   "execution_count": 68,
   "metadata": {
    "scrolled": false
   },
   "outputs": [
    {
     "name": "stderr",
     "output_type": "stream",
     "text": [
      "  2%|▏         | 2/120 [00:00<00:06, 18.43it/s]/home/ray/.local/lib/python3.6/site-packages/numpy/lib/polynomial.py:630: RuntimeWarning: invalid value encountered in true_divide\n",
      "  lhs /= scale\n",
      " 62%|██████▏   | 74/120 [00:02<00:01, 35.97it/s]/home/ray/.local/lib/python3.6/site-packages/numpy/lib/polynomial.py:630: RuntimeWarning: invalid value encountered in true_divide\n",
      "  lhs /= scale\n",
      " 65%|██████▌   | 78/120 [00:02<00:01, 36.00it/s]/home/ray/.local/lib/python3.6/site-packages/numpy/lib/polynomial.py:630: RuntimeWarning: invalid value encountered in true_divide\n",
      "  lhs /= scale\n",
      "100%|██████████| 120/120 [00:03<00:00, 35.44it/s]\n",
      " 42%|████▏     | 50/120 [00:01<00:02, 34.70it/s]/home/ray/.local/lib/python3.6/site-packages/numpy/lib/polynomial.py:630: RuntimeWarning: invalid value encountered in true_divide\n",
      "  lhs /= scale\n",
      " 55%|█████▌    | 66/120 [00:01<00:01, 35.24it/s]/home/ray/.local/lib/python3.6/site-packages/numpy/lib/polynomial.py:630: RuntimeWarning: invalid value encountered in true_divide\n",
      "  lhs /= scale\n",
      " 95%|█████████▌| 114/120 [00:03<00:00, 35.26it/s]/home/ray/.local/lib/python3.6/site-packages/numpy/lib/polynomial.py:630: RuntimeWarning: invalid value encountered in true_divide\n",
      "  lhs /= scale\n",
      "100%|██████████| 120/120 [00:03<00:00, 34.87it/s]\n",
      " 19%|█▉        | 23/120 [00:00<00:03, 31.70it/s]/home/ray/.local/lib/python3.6/site-packages/numpy/lib/polynomial.py:630: RuntimeWarning: invalid value encountered in true_divide\n",
      "  lhs /= scale\n",
      " 36%|███▌      | 43/120 [00:01<00:02, 33.60it/s]/home/ray/.local/lib/python3.6/site-packages/numpy/lib/polynomial.py:630: RuntimeWarning: invalid value encountered in true_divide\n",
      "  lhs /= scale\n",
      " 62%|██████▎   | 75/120 [00:02<00:01, 33.71it/s]/home/ray/.local/lib/python3.6/site-packages/numpy/lib/polynomial.py:630: RuntimeWarning: invalid value encountered in true_divide\n",
      "  lhs /= scale\n",
      "100%|██████████| 120/120 [00:03<00:00, 33.51it/s]\n",
      " 75%|███████▌  | 90/120 [00:02<00:00, 33.09it/s]/home/ray/.local/lib/python3.6/site-packages/numpy/lib/polynomial.py:630: RuntimeWarning: invalid value encountered in true_divide\n",
      "  lhs /= scale\n",
      " 95%|█████████▌| 114/120 [00:03<00:00, 33.84it/s]/home/ray/.local/lib/python3.6/site-packages/numpy/lib/polynomial.py:630: RuntimeWarning: invalid value encountered in true_divide\n",
      "  lhs /= scale\n",
      "/home/ray/.local/lib/python3.6/site-packages/numpy/lib/polynomial.py:630: RuntimeWarning: invalid value encountered in true_divide\n",
      "  lhs /= scale\n",
      "100%|██████████| 120/120 [00:03<00:00, 32.43it/s]\n",
      "  0%|          | 0/120 [00:00<?, ?it/s]/home/ray/.local/lib/python3.6/site-packages/numpy/lib/polynomial.py:630: RuntimeWarning: invalid value encountered in true_divide\n",
      "  lhs /= scale\n",
      " 45%|████▌     | 54/120 [00:01<00:02, 30.70it/s]/home/ray/.local/lib/python3.6/site-packages/numpy/lib/polynomial.py:630: RuntimeWarning: invalid value encountered in true_divide\n",
      "  lhs /= scale\n",
      " 92%|█████████▏| 110/120 [00:03<00:00, 31.25it/s]/home/ray/.local/lib/python3.6/site-packages/numpy/lib/polynomial.py:630: RuntimeWarning: invalid value encountered in true_divide\n",
      "  lhs /= scale\n",
      "100%|██████████| 120/120 [00:03<00:00, 31.35it/s]\n",
      " 10%|█         | 12/120 [00:00<00:04, 24.57it/s]/home/ray/.local/lib/python3.6/site-packages/numpy/lib/polynomial.py:630: RuntimeWarning: invalid value encountered in true_divide\n",
      "  lhs /= scale\n",
      " 27%|██▋       | 32/120 [00:01<00:02, 29.98it/s]/home/ray/.local/lib/python3.6/site-packages/numpy/lib/polynomial.py:630: RuntimeWarning: invalid value encountered in true_divide\n",
      "  lhs /= scale\n",
      " 73%|███████▎  | 88/120 [00:02<00:01, 30.99it/s]/home/ray/.local/lib/python3.6/site-packages/numpy/lib/polynomial.py:630: RuntimeWarning: invalid value encountered in true_divide\n",
      "  lhs /= scale\n",
      "100%|██████████| 120/120 [00:03<00:00, 30.47it/s]\n",
      "  8%|▊         | 10/120 [00:00<00:04, 23.70it/s]/home/ray/.local/lib/python3.6/site-packages/numpy/lib/polynomial.py:630: RuntimeWarning: invalid value encountered in true_divide\n",
      "  lhs /= scale\n",
      " 49%|████▉     | 59/120 [00:01<00:02, 30.45it/s]/home/ray/.local/lib/python3.6/site-packages/numpy/lib/polynomial.py:630: RuntimeWarning: invalid value encountered in true_divide\n",
      "  lhs /= scale\n",
      " 68%|██████▊   | 82/120 [00:02<00:01, 29.46it/s]/home/ray/.local/lib/python3.6/site-packages/numpy/lib/polynomial.py:630: RuntimeWarning: invalid value encountered in true_divide\n",
      "  lhs /= scale\n",
      "100%|██████████| 120/120 [00:03<00:00, 30.39it/s]\n",
      " 21%|██        | 25/120 [00:00<00:03, 28.84it/s]/home/ray/.local/lib/python3.6/site-packages/numpy/lib/polynomial.py:630: RuntimeWarning: invalid value encountered in true_divide\n",
      "  lhs /= scale\n",
      " 34%|███▍      | 41/120 [00:01<00:02, 30.39it/s]/home/ray/.local/lib/python3.6/site-packages/numpy/lib/polynomial.py:630: RuntimeWarning: invalid value encountered in true_divide\n",
      "  lhs /= scale\n",
      " 78%|███████▊  | 93/120 [00:03<00:00, 30.91it/s]/home/ray/.local/lib/python3.6/site-packages/numpy/lib/polynomial.py:630: RuntimeWarning: invalid value encountered in true_divide\n",
      "  lhs /= scale\n",
      "100%|██████████| 120/120 [00:03<00:00, 30.54it/s]\n",
      " 10%|█         | 12/120 [00:00<00:04, 25.15it/s]/home/ray/.local/lib/python3.6/site-packages/numpy/lib/polynomial.py:630: RuntimeWarning: invalid value encountered in true_divide\n",
      "  lhs /= scale\n",
      " 34%|███▍      | 41/120 [00:01<00:02, 29.50it/s]/home/ray/.local/lib/python3.6/site-packages/numpy/lib/polynomial.py:630: RuntimeWarning: invalid value encountered in true_divide\n",
      "  lhs /= scale\n",
      " 97%|█████████▋| 116/120 [00:03<00:00, 30.34it/s]/home/ray/.local/lib/python3.6/site-packages/numpy/lib/polynomial.py:630: RuntimeWarning: invalid value encountered in true_divide\n",
      "  lhs /= scale\n",
      "100%|██████████| 120/120 [00:04<00:00, 29.72it/s]\n",
      " 26%|██▌       | 31/120 [00:01<00:03, 29.08it/s]/home/ray/.local/lib/python3.6/site-packages/numpy/lib/polynomial.py:630: RuntimeWarning: invalid value encountered in true_divide\n",
      "  lhs /= scale\n",
      " 40%|████      | 48/120 [00:01<00:02, 29.51it/s]/home/ray/.local/lib/python3.6/site-packages/numpy/lib/polynomial.py:630: RuntimeWarning: invalid value encountered in true_divide\n",
      "  lhs /= scale\n",
      " 45%|████▌     | 54/120 [00:01<00:02, 29.63it/s]/home/ray/.local/lib/python3.6/site-packages/numpy/lib/polynomial.py:630: RuntimeWarning: invalid value encountered in true_divide\n",
      "  lhs /= scale\n",
      "100%|██████████| 120/120 [00:04<00:00, 29.79it/s]"
     ]
    },
    {
     "name": "stdout",
     "output_type": "stream",
     "text": [
      "\n",
      " order 5 parkin L1: 1.3629\n",
      "\n",
      " order 6 parkin L1: 1.3807\n",
      "\n",
      " order 7 parkin L1: 1.4545\n",
      "\n",
      " order 8 parkin L1: 1.5232\n",
      "\n",
      " order 9 parkin L1: 1.5814\n",
      "\n",
      " order 10 parkin L1: 1.6573\n",
      "\n",
      " order 11 parkin L1: 1.6905\n",
      "\n",
      " order 12 parkin L1: 1.7167\n",
      "\n",
      " order 13 parkin L1: 1.7396\n",
      "\n",
      " order 14 parkin L1: 1.7876\n"
     ]
    },
    {
     "name": "stderr",
     "output_type": "stream",
     "text": [
      "\n"
     ]
    }
   ],
   "source": [
    "l1_order = []\n",
    "for order in range(5,15):\n",
    "    L1 = []\n",
    "    t = tqdm(loader_parking)\n",
    "    for mm_scan, laser_scan in t:\n",
    "        fit = []\n",
    "        mm_scan = mm_scan.numpy()\n",
    "        for mm in mm_scan:\n",
    "            fit.append([curve_fit(mm[0], order=order)])\n",
    "        fit = torch.Tensor(fit)\n",
    "        L1.append(l1(laser_scan,fit))\n",
    "    l1_order.append(np.mean(L1))\n",
    "\n",
    "for i, l in enumerate(l1_order):\n",
    "    print(\"\\n order %d parkin L1: %.4f\"%(i+5,l))"
   ]
  },
  {
   "cell_type": "markdown",
   "metadata": {},
   "source": [
    "### L1 raw"
   ]
  },
  {
   "cell_type": "code",
   "execution_count": 11,
   "metadata": {
    "scrolled": false
   },
   "outputs": [
    {
     "name": "stderr",
     "output_type": "stream",
     "text": [
      "100%|██████████| 582/582 [00:00<00:00, 986.08it/s]"
     ]
    },
    {
     "name": "stdout",
     "output_type": "stream",
     "text": [
      "\n",
      " corridor L1: 1.9953\n"
     ]
    },
    {
     "name": "stderr",
     "output_type": "stream",
     "text": [
      "\n"
     ]
    }
   ],
   "source": [
    "L1 = []\n",
    "t = tqdm(loader_corridor)\n",
    "for mm_scan, laser_scan in t:\n",
    "    \n",
    "    L1.append(l1(laser_scan,mm_scan))\n",
    "\n",
    "print(\"\\n corridor L1: %.4f\"%np.mean(L1))"
   ]
  },
  {
   "cell_type": "code",
   "execution_count": 100,
   "metadata": {},
   "outputs": [
    {
     "name": "stderr",
     "output_type": "stream",
     "text": [
      "100%|██████████| 120/120 [00:00<00:00, 799.39it/s]"
     ]
    },
    {
     "name": "stdout",
     "output_type": "stream",
     "text": [
      "\n",
      " parking L1: 0.3904\n"
     ]
    },
    {
     "name": "stderr",
     "output_type": "stream",
     "text": [
      "\n"
     ]
    }
   ],
   "source": [
    "L1 = []\n",
    "t = tqdm(loader_parking)\n",
    "for mm_scan, laser_scan in t:\n",
    "    \n",
    "    L1.append(l1(laser_scan,mm_scan))\n",
    "    \n",
    "print(\"\\n parking L1: %.4f\"%np.mean(L1))"
   ]
  },
  {
   "cell_type": "markdown",
   "metadata": {},
   "source": [
    "### L1 interpolation"
   ]
  },
  {
   "cell_type": "code",
   "execution_count": 11,
   "metadata": {},
   "outputs": [
    {
     "name": "stderr",
     "output_type": "stream",
     "text": [
      "100%|██████████| 120/120 [00:00<00:00, 352.61it/s]"
     ]
    },
    {
     "name": "stdout",
     "output_type": "stream",
     "text": [
      "\n",
      " parking L1: 0.1114\n"
     ]
    },
    {
     "name": "stderr",
     "output_type": "stream",
     "text": [
      "\n"
     ]
    }
   ],
   "source": [
    "L1 = []\n",
    "t = tqdm(loader_parking)\n",
    "for mm_scan, laser_scan in t:\n",
    "    mm_scan = mm_scan.to(device)\n",
    "    \n",
    "    x_hat = model(mm_scan)\n",
    "    x_hat = x_hat.detach().cpu().numpy().reshape(mm_scan.size(0),-1)\n",
    "    laser_scan = laser_scan.numpy().reshape(mm_scan.size(0),-1)\n",
    "    mm_scan = mm_scan.detach().cpu().numpy().reshape(mm_scan.size(0),-1)\n",
    "    \n",
    "    l1 = np.mean(np.abs(laser_scan-x_hat))\n",
    "    L1.append(l1)\n",
    "    \n",
    "print(\"\\n parking L1: %.4f\"%np.mean(L1))"
   ]
  }
 ],
 "metadata": {
  "kernelspec": {
   "display_name": "Python 3",
   "language": "python",
   "name": "python3"
  },
  "language_info": {
   "codemirror_mode": {
    "name": "ipython",
    "version": 3
   },
   "file_extension": ".py",
   "mimetype": "text/x-python",
   "name": "python",
   "nbconvert_exporter": "python",
   "pygments_lexer": "ipython3",
   "version": "3.6.9"
  }
 },
 "nbformat": 4,
 "nbformat_minor": 4
}
