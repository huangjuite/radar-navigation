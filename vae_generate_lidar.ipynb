{
  "nbformat": 4,
  "nbformat_minor": 0,
  "metadata": {
    "kernelspec": {
      "display_name": "Python 3",
      "language": "python",
      "name": "python3"
    },
    "language_info": {
      "codemirror_mode": {
        "name": "ipython",
        "version": 3
      },
      "file_extension": ".py",
      "mimetype": "text/x-python",
      "name": "python",
      "nbconvert_exporter": "python",
      "pygments_lexer": "ipython3",
      "version": "3.6.9"
    },
    "colab": {
      "name": "vae_generate_lidar.ipynb",
      "provenance": []
    },
    "accelerator": "GPU"
  },
  "cells": [
    {
      "cell_type": "code",
      "metadata": {
        "id": "UJLg_uaFqf2V"
      },
      "source": [
        "import os\n",
        "import io\n",
        "import cv2\n",
        "import copy\n",
        "import math\n",
        "import random\n",
        "import numpy as np\n",
        "import pickle as pkl\n",
        "from tqdm import tqdm, trange\n",
        "from typing import Deque, Dict, List, Tuple\n",
        "import matplotlib.pyplot as plt\n",
        "\n",
        "\n",
        "import torch\n",
        "import torch.nn as nn\n",
        "import torch.nn.functional as F\n",
        "import torch.optim as optim\n",
        "from torch.utils.data.dataset import Dataset\n",
        "from torch.utils.data import DataLoader, random_split\n",
        "\n"
      ],
      "execution_count": 1,
      "outputs": []
    },
    {
      "cell_type": "markdown",
      "metadata": {
        "id": "Ca4eB4Gxqf2Z"
      },
      "source": [
        "## dataset\n",
        "\n",
        "    Load dataset from your google drive.\n",
        "    Please add a short cut of our dataset on google drive to your own google drive.\n",
        "    Change the \"main_path\" of the dataset if necessary."
      ]
    },
    {
      "cell_type": "code",
      "metadata": {
        "id": "VtEy0lUxqp6M",
        "outputId": "d2c4be62-2d5f-499c-a26a-fd37109077c4",
        "colab": {
          "base_uri": "https://localhost:8080/",
          "height": 35
        }
      },
      "source": [
        "from google.colab import drive\n",
        "drive.mount('/content/gdrive')"
      ],
      "execution_count": 2,
      "outputs": [
        {
          "output_type": "stream",
          "text": [
            "Mounted at /content/gdrive\n"
          ],
          "name": "stdout"
        }
      ]
    },
    {
      "cell_type": "code",
      "metadata": {
        "scrolled": true,
        "id": "7vg8gr-Yqf2Z",
        "outputId": "5ac148d7-1f83-4df6-ee9d-0fa25bb29adc",
        "colab": {
          "base_uri": "https://localhost:8080/",
          "height": 35
        }
      },
      "source": [
        "paths = []\n",
        "main_path = '/content/gdrive/My Drive/transitions/'\n",
        "dirs = os.listdir(main_path)\n",
        "dirs.sort()\n",
        "for d in dirs:\n",
        "    dirs1 = os.listdir(main_path+'/'+d)\n",
        "    dirs1.sort()\n",
        "    for p in dirs1:\n",
        "      paths.append(main_path+'/'+d+'/'+p)\n",
        "      # print(paths[-1])\n",
        "print('%d episodes'%len(paths))\n"
      ],
      "execution_count": 3,
      "outputs": [
        {
          "output_type": "stream",
          "text": [
            "228 episodes\n"
          ],
          "name": "stdout"
        }
      ]
    },
    {
      "cell_type": "code",
      "metadata": {
        "id": "pgYz_jarqf2d",
        "outputId": "3b6ced08-2a0e-4ac9-c6b1-d834c6e8edf0",
        "colab": {
          "base_uri": "https://localhost:8080/",
          "height": 35
        }
      },
      "source": [
        "class MMDataset(Dataset):\n",
        "    def __init__(self, paths):\n",
        "        self.transitions = []\n",
        "\n",
        "        for p in tqdm(paths):\n",
        "            with open(p, \"rb\") as f:\n",
        "                demo = pkl.load(f, encoding=\"bytes\")\n",
        "                self.transitions.extend(demo)\n",
        "        \n",
        "    def __getitem__(self,index):\n",
        "        mm_scan = self.transitions[index][b'mm_scan']\n",
        "        laser_scan = self.transitions[index][b'laser_scan']\n",
        "        mm_scan = torch.Tensor(mm_scan).reshape(1,-1)\n",
        "        laser_scan = torch.Tensor(laser_scan).reshape(1,-1)\n",
        "        \n",
        "        return mm_scan, laser_scan\n",
        "    \n",
        "    def __len__(self):\n",
        "        return len(self.transitions)\n",
        "\n",
        "    \n",
        "batch_size = 16\n",
        "mm_dataset = MMDataset(paths)\n",
        "\n",
        "loader = DataLoader(dataset=mm_dataset,\n",
        "                    batch_size=batch_size,\n",
        "                    shuffle=True,\n",
        "                    num_workers=4)\n"
      ],
      "execution_count": 4,
      "outputs": [
        {
          "output_type": "stream",
          "text": [
            "100%|██████████| 228/228 [02:25<00:00,  1.57it/s]\n"
          ],
          "name": "stderr"
        }
      ]
    },
    {
      "cell_type": "markdown",
      "metadata": {
        "id": "xqmER4KDqf2g"
      },
      "source": [
        "## hyper parameters"
      ]
    },
    {
      "cell_type": "code",
      "metadata": {
        "id": "_w0mwItAqf2h"
      },
      "source": [
        "hyper_parameter = dict(\n",
        "    kernel=3,\n",
        "    stride=2,\n",
        "    padding=2,\n",
        "    latent=128,\n",
        "    deconv_dim=32,\n",
        "    deconv_channel=128,\n",
        "    adjust_linear=235,\n",
        "    epoch=100,\n",
        "    learning_rate=0.001,\n",
        ")\n",
        "class Struct:\n",
        "    def __init__(self, **entries):\n",
        "        self.__dict__.update(entries)\n",
        "config = Struct(**hyper_parameter)"
      ],
      "execution_count": 5,
      "outputs": []
    },
    {
      "cell_type": "markdown",
      "metadata": {
        "id": "8oKinQAWqf2j"
      },
      "source": [
        "## model"
      ]
    },
    {
      "cell_type": "code",
      "metadata": {
        "id": "HSCKIfJfqf2k"
      },
      "source": [
        "class MMvae(nn.Module):\n",
        "    def __init__(self):\n",
        "        super(MMvae, self).__init__()\n",
        "        kernel = 3\n",
        "        stride = 2\n",
        "        self.conv = nn.Sequential(\n",
        "            nn.Conv1d(1, 64, kernel_size=kernel, stride=stride),\n",
        "            nn.ReLU(),\n",
        "            nn.Conv1d(64, 64, kernel_size=kernel, stride=stride),\n",
        "            nn.ReLU()\n",
        "        )\n",
        "        \n",
        "        dim = 64*59\n",
        "        self.linear1=nn.Sequential(\n",
        "            nn.Linear(dim,512),\n",
        "            nn.ReLU()\n",
        "        )\n",
        "        self.en_fc1=nn.Linear(512,config.latent)\n",
        "        self.en_fc2=nn.Linear(512,config.latent)\n",
        "        \n",
        "        self.de_fc1=nn.Sequential(\n",
        "            nn.Linear(config.latent,config.deconv_channel*config.deconv_dim),\n",
        "            nn.ReLU()\n",
        "        )\n",
        "        \n",
        "        self.de_conv =nn.Sequential(\n",
        "            nn.ConvTranspose1d(config.deconv_channel, config.deconv_channel//2, kernel, stride=stride, padding=config.padding),\n",
        "#             nn.ReLU(),\n",
        "            nn.ConvTranspose1d(config.deconv_channel//2, config.deconv_channel//4, kernel, stride=stride, padding=config.padding),\n",
        "#             nn.ReLU(),\n",
        "            nn.ConvTranspose1d(config.deconv_channel//4, 1, kernel, stride=stride, padding=config.padding),\n",
        "#             nn.ReLU(),\n",
        "        )\n",
        "        self.adjust_linear=nn.Sequential(\n",
        "            nn.Linear(config.adjust_linear,241),\n",
        "            nn.ReLU()\n",
        "        )\n",
        "\n",
        "        \n",
        "    def encoder(self,x):\n",
        "        x = self.conv(x)\n",
        "        x = x.view(x.size(0),-1)\n",
        "        x = self.linear1(x)\n",
        "        mean = self.en_fc1(x)\n",
        "        logvar = self.en_fc2(x)\n",
        "        return mean, logvar\n",
        "\n",
        "    def reparameter(self, mean, logvar):\n",
        "        std = torch.exp(0.5*logvar)\n",
        "        eps = torch.randn_like(std)\n",
        "        return mean + eps*std\n",
        "\n",
        "    def decoder(self,x):\n",
        "        x = self.de_fc1(x)\n",
        "        x = x.view(-1, config.deconv_channel, config.deconv_dim)\n",
        "        x = self.de_conv(x)\n",
        "        x = self.adjust_linear(x)\n",
        "        return x\n",
        "\n",
        "    def forward(self,x):\n",
        "        mean, logvar = self.encoder(x)\n",
        "        x = self.reparameter(mean, logvar)\n",
        "        x = self.decoder(x)\n",
        "        return x ,mean ,logvar"
      ],
      "execution_count": 6,
      "outputs": []
    },
    {
      "cell_type": "markdown",
      "metadata": {
        "id": "M9p8UDYFqf2n"
      },
      "source": [
        "## load model\n",
        "\n",
        "    Load model from your google drive.\n",
        "    Please add a short cut of our inference model on google drive to your own google drive.\n",
        "    Change the \"model_path\" of the dataset if necessary. "
      ]
    },
    {
      "cell_type": "code",
      "metadata": {
        "scrolled": false,
        "id": "_-OT3hAEqf2n",
        "outputId": "157db66c-0138-47b8-9de1-e71d45dac4fe",
        "colab": {
          "base_uri": "https://localhost:8080/",
          "height": 54
        }
      },
      "source": [
        "device = torch.device(\"cuda:0\" if torch.cuda.is_available() else \"cpu\")\n",
        "print('device, ',device)\n",
        "model = MMvae()\n",
        "model.to(device)\n",
        "model_path = '/content/gdrive/My Drive/deploy_model/vae/0726_1557.pth'\n",
        "model.load_state_dict(torch.load(model_path))"
      ],
      "execution_count": 7,
      "outputs": [
        {
          "output_type": "stream",
          "text": [
            "device,  cuda:0\n"
          ],
          "name": "stdout"
        },
        {
          "output_type": "execute_result",
          "data": {
            "text/plain": [
              "<All keys matched successfully>"
            ]
          },
          "metadata": {
            "tags": []
          },
          "execution_count": 7
        }
      ]
    },
    {
      "cell_type": "markdown",
      "metadata": {
        "id": "Cv74SaEpqf2r"
      },
      "source": [
        "## visualize examples"
      ]
    },
    {
      "cell_type": "code",
      "metadata": {
        "id": "FVdIzAeGqf2s"
      },
      "source": [
        "def laser_visual(lasers=[], show=False, range_limit=6):\n",
        "    colors = ['#3483EB','#FFA500','#15B01D']\n",
        "    fig = plt.figure(figsize=(8, 8))\n",
        "    for i, l in enumerate(lasers):\n",
        "        # fig = plt.figure(figsize=(8, 8))\n",
        "        angle = 120\n",
        "        xp = []\n",
        "        yp = []\n",
        "        for r in l:\n",
        "            if r <= range_limit:\n",
        "                yp.append(r * math.cos(math.radians(angle)))\n",
        "                xp.append(r * math.sin(math.radians(angle)))\n",
        "            angle -= 1\n",
        "        plt.xlim(-6, 6)\n",
        "        plt.ylim(-6, 6)\n",
        "        # plt.axis('off')\n",
        "        plt.plot(xp, yp, 'x', color=colors[i])\n",
        "    plt.show()\n"
      ],
      "execution_count": 8,
      "outputs": []
    },
    {
      "cell_type": "code",
      "metadata": {
        "id": "ewAqFzV3qf2v",
        "outputId": "461b16d2-3dc1-4cdc-85dc-195cc88a11f0",
        "colab": {
          "base_uri": "https://localhost:8080/",
          "height": 487
        }
      },
      "source": [
        "data1 = None\n",
        "for mm_scan, laser_scan in loader:\n",
        "    mm_scan = mm_scan.to(device)\n",
        "    \n",
        "    x_hat ,mean ,logvar = model(mm_scan)\n",
        "    \n",
        "    x = x_hat.detach().cpu().numpy().reshape(batch_size,-1)[0]\n",
        "    laser = laser_scan.numpy().reshape(batch_size,-1)[0]\n",
        "    mm = mm_scan.detach().cpu().numpy().reshape(batch_size,-1)[0]\n",
        "    \n",
        "    laser_visual([laser, x, mm], show=True, range_limit=4.9)\n",
        "    data1 = [laser, x, mm]\n",
        "    break"
      ],
      "execution_count": 9,
      "outputs": [
        {
          "output_type": "display_data",
          "data": {
            "image/png": "[encoded data removed]",
            "text/plain": [
              "<Figure size 576x576 with 1 Axes>"
            ]
          },
          "metadata": {
            "tags": [],
            "needs_background": "light"
          }
        }
      ]
    }
  ]
}