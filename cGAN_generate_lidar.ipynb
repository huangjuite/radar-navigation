{
  "nbformat": 4,
  "nbformat_minor": 0,
  "metadata": {
    "kernelspec": {
      "display_name": "Python 3",
      "language": "python",
      "name": "python3"
    },
    "language_info": {
      "codemirror_mode": {
        "name": "ipython",
        "version": 3
      },
      "file_extension": ".py",
      "mimetype": "text/x-python",
      "name": "python",
      "nbconvert_exporter": "python",
      "pygments_lexer": "ipython3",
      "version": "3.6.9"
    },
    "colab": {
      "name": "cGAN_generate_lidar.ipynb",
      "provenance": []
    },
    "accelerator": "GPU"
  },
  "cells": [
    {
      "cell_type": "markdown",
      "metadata": {
        "id": "P_VunP7mcLdF"
      },
      "source": [
        "## cGAN generate LiDAR"
      ]
    },
    {
      "cell_type": "code",
      "metadata": {
        "id": "jXbqhZBHcLdG"
      },
      "source": [
        "import os\n",
        "import io\n",
        "import cv2\n",
        "import copy\n",
        "import math\n",
        "import random\n",
        "import numpy as np\n",
        "import pickle as pkl\n",
        "from tqdm import tqdm, trange\n",
        "from typing import Deque, Dict, List, Tuple\n",
        "import matplotlib.pyplot as plt\n",
        "\n",
        "\n",
        "import torch\n",
        "import torch.nn as nn\n",
        "import torch.nn.functional as F\n",
        "import torch.optim as optim\n",
        "from torch.autograd import Variable\n",
        "from torch.utils.data.dataset import Dataset\n",
        "from torch.utils.data import DataLoader, random_split\n",
        "\n"
      ],
      "execution_count": 1,
      "outputs": []
    },
    {
      "cell_type": "markdown",
      "metadata": {
        "id": "f1qtyFZicLdK"
      },
      "source": [
        "## dataset\n",
        "\n",
        "    Load dataset from your google drive.\n",
        "    Please add a short cut of our dataset on google drive to your own google drive.\n",
        "    Change the \"main_path\" of the dataset if necessary."
      ]
    },
    {
      "cell_type": "code",
      "metadata": {
        "id": "79mIlikZiu92",
        "outputId": "0d709ee2-7966-48ec-86b1-1026c2401595",
        "colab": {
          "base_uri": "https://localhost:8080/",
          "height": 35
        }
      },
      "source": [
        "from google.colab import drive\n",
        "drive.mount('/content/gdrive')"
      ],
      "execution_count": 2,
      "outputs": [
        {
          "output_type": "stream",
          "text": [
            "Drive already mounted at /content/gdrive; to attempt to forcibly remount, call drive.mount(\"/content/gdrive\", force_remount=True).\n"
          ],
          "name": "stdout"
        }
      ]
    },
    {
      "cell_type": "code",
      "metadata": {
        "scrolled": true,
        "id": "YqeNMpGCcLdK",
        "outputId": "1e762023-ed41-41cd-f3c5-c6b5617462ae",
        "colab": {
          "base_uri": "https://localhost:8080/",
          "height": 35
        }
      },
      "source": [
        "paths = []\n",
        "main_path = '/content/gdrive/My Drive/transitions/'\n",
        "dirs = os.listdir(main_path)\n",
        "dirs.sort()\n",
        "for d in dirs:\n",
        "    dirs1 = os.listdir(main_path+'/'+d)\n",
        "    dirs1.sort()\n",
        "    for p in dirs1:\n",
        "      paths.append(main_path+'/'+d+'/'+p)\n",
        "      # print(paths[-1])\n",
        "print('%d episodes'%len(paths))\n"
      ],
      "execution_count": 3,
      "outputs": [
        {
          "output_type": "stream",
          "text": [
            "228 episodes\n"
          ],
          "name": "stdout"
        }
      ]
    },
    {
      "cell_type": "code",
      "metadata": {
        "id": "14HAQLFucLdO",
        "outputId": "7338d1ce-f233-4a77-9db5-3f73f6c0b310",
        "colab": {
          "base_uri": "https://localhost:8080/",
          "height": 35
        }
      },
      "source": [
        "class MMDataset(Dataset):\n",
        "    def __init__(self, paths):\n",
        "        self.transitions = []\n",
        "\n",
        "        for p in tqdm(paths):\n",
        "            with open(p, \"rb\") as f:\n",
        "                demo = pkl.load(f, encoding=\"bytes\")\n",
        "                self.transitions.extend(demo)\n",
        "        \n",
        "    def __getitem__(self,index):\n",
        "        mm_scan = self.transitions[index][b'mm_scan']\n",
        "        laser_scan = self.transitions[index][b'laser_scan']\n",
        "        mm_scan = torch.Tensor(mm_scan).reshape(1,-1)\n",
        "        laser_scan = torch.Tensor(laser_scan).reshape(1,-1)\n",
        "        \n",
        "        return mm_scan, laser_scan\n",
        "    \n",
        "    def __len__(self):\n",
        "        return len(self.transitions)\n",
        "\n",
        "    \n",
        "batch_size = 16\n",
        "mm_dataset = MMDataset(paths)\n",
        "\n",
        "loader = DataLoader(dataset=mm_dataset,\n",
        "                    batch_size=batch_size,\n",
        "                    shuffle=True,\n",
        "                    num_workers=4)\n"
      ],
      "execution_count": 4,
      "outputs": [
        {
          "output_type": "stream",
          "text": [
            "100%|██████████| 228/228 [00:05<00:00, 40.39it/s]\n"
          ],
          "name": "stderr"
        }
      ]
    },
    {
      "cell_type": "markdown",
      "metadata": {
        "id": "vR_682nicLdR"
      },
      "source": [
        "## hyper parameters"
      ]
    },
    {
      "cell_type": "code",
      "metadata": {
        "id": "Y9F8bdeOcLdR"
      },
      "source": [
        "hyper_parameter = dict(\n",
        "    kernel=3,\n",
        "    stride=2,\n",
        "    padding=2,\n",
        "    deconv_dim=32,\n",
        "    deconv_channel=128,\n",
        "    adjust_linear=235,\n",
        "    epoch=500,\n",
        "    beta1=0.5,\n",
        "    learning_rate=0.0002,\n",
        "    nz=100,\n",
        "    lambda_l1=100,\n",
        ")\n",
        "class Struct:\n",
        "    def __init__(self, **entries):\n",
        "        self.__dict__.update(entries)\n",
        "config = Struct(**hyper_parameter)"
      ],
      "execution_count": 5,
      "outputs": []
    },
    {
      "cell_type": "markdown",
      "metadata": {
        "id": "85dWFlDCcLdU"
      },
      "source": [
        "## model"
      ]
    },
    {
      "cell_type": "code",
      "metadata": {
        "id": "yNAlrgJXcLdU"
      },
      "source": [
        "class Generator(nn.Module):\n",
        "    def __init__(self):\n",
        "        super(Generator, self).__init__()\n",
        "        kernel = 3\n",
        "        stride = 2\n",
        "        self.conv = nn.Sequential(\n",
        "            nn.Conv1d(1, 64, kernel_size=kernel, stride=stride),\n",
        "            nn.ReLU(),\n",
        "            nn.Conv1d(64, 64, kernel_size=kernel, stride=stride),\n",
        "            nn.ReLU()\n",
        "        )\n",
        "        \n",
        "        dim = 64*59\n",
        "        self.linear=nn.Sequential(\n",
        "            nn.Linear(dim,512),\n",
        "            nn.ReLU(),\n",
        "            nn.Linear(512,128)\n",
        "        )\n",
        "        \n",
        "#         self.n_fc1=nn.Linear(config.nz, 128)\n",
        "#         self.n_fc2=nn.Linear(128, 128)\n",
        "        \n",
        "#         self.fc_combine=nn.Linear(128*2, 128)\n",
        "        \n",
        "        self.de_fc1=nn.Sequential(\n",
        "            nn.Linear(128,config.deconv_channel*config.deconv_dim),\n",
        "            nn.ReLU()\n",
        "        )\n",
        "        \n",
        "        self.de_conv =nn.Sequential(\n",
        "            nn.ConvTranspose1d(config.deconv_channel, config.deconv_channel//2, kernel, stride=stride, padding=config.padding),\n",
        "            nn.ConvTranspose1d(config.deconv_channel//2, config.deconv_channel//4, kernel, stride=stride, padding=config.padding),\n",
        "            nn.ConvTranspose1d(config.deconv_channel//4, 1, kernel, stride=stride, padding=config.padding),\n",
        "        )\n",
        "        self.adjust_linear=nn.Sequential(\n",
        "            nn.Linear(config.adjust_linear,241),\n",
        "            nn.ReLU()\n",
        "        )\n",
        "\n",
        "        \n",
        "    def encoder(self,x):\n",
        "        x = self.conv(x)\n",
        "        x = x.view(x.size(0),-1)\n",
        "        x = self.linear(x)\n",
        "        return x\n",
        "\n",
        "    def decoder(self,x):\n",
        "        x = self.de_fc1(x)\n",
        "        x = x.view(-1, config.deconv_channel, config.deconv_dim)\n",
        "        x = self.de_conv(x)\n",
        "        x = self.adjust_linear(x)\n",
        "        return x\n",
        "\n",
        "    def forward(self, x):\n",
        "        x = self.encoder(x)\n",
        "#         n = self.n_fc1(n)\n",
        "#         n = self.n_fc2(n)\n",
        "        \n",
        "#         x = torch.cat((x,n),dim=-1)\n",
        "#         x = self.fc_combine(x)\n",
        "        \n",
        "        x = self.decoder(x)\n",
        "        return x"
      ],
      "execution_count": 6,
      "outputs": []
    },
    {
      "cell_type": "code",
      "metadata": {
        "id": "sTNajyBWcLdX"
      },
      "source": [
        "class Discriminator(nn.Module):\n",
        "    def __init__(self):\n",
        "        super(Discriminator, self).__init__()\n",
        "        kernel = 3\n",
        "        stride = 2\n",
        "        self.conv = nn.Sequential(\n",
        "            nn.Conv1d(2, 64, kernel_size=kernel, stride=stride),\n",
        "            nn.ReLU(),\n",
        "            nn.Conv1d(64, 64, kernel_size=kernel, stride=stride),\n",
        "            nn.ReLU()\n",
        "        )\n",
        "        \n",
        "        dim = 64*59\n",
        "        self.linear=nn.Sequential(\n",
        "            nn.Linear(dim,512),\n",
        "            nn.ReLU(),\n",
        "            nn.Linear(512,128),\n",
        "            nn.ReLU(),\n",
        "            nn.Linear(128, 1),\n",
        "            nn.Sigmoid(),\n",
        "        )\n",
        "\n",
        "    def forward(self, x):\n",
        "                \n",
        "        x = self.conv(x)\n",
        "        x = x.view(x.size(0),-1)\n",
        "        x = self.linear(x)\n",
        "        \n",
        "        return x"
      ],
      "execution_count": 7,
      "outputs": []
    },
    {
      "cell_type": "markdown",
      "metadata": {
        "id": "npt_JqzGcLda"
      },
      "source": [
        "## load model\n",
        "\n",
        "    Load model from your google drive.\n",
        "    Please add a short cut of our inference model on google drive to your own google drive.\n",
        "    Change the \"model_path\" of the dataset if necessary. "
      ]
    },
    {
      "cell_type": "code",
      "metadata": {
        "id": "1r_OdviacLda",
        "outputId": "a1bcb9f9-da76-4e28-c727-ef894d360881",
        "colab": {
          "base_uri": "https://localhost:8080/",
          "height": 508
        }
      },
      "source": [
        "device = torch.device(\"cuda:0\" if torch.cuda.is_available() else \"cpu\")\n",
        "print('device, ',device)\n",
        "model = Generator()\n",
        "\n",
        "# bce logits loss L1:0.1163\n",
        "model_path = '/content/gdrive/My Drive/deploy_model/cgan/0827_1851.pth'\n",
        "\n",
        "model.load_state_dict(torch.load(model_path))\n",
        "model.to(device)\n"
      ],
      "execution_count": 8,
      "outputs": [
        {
          "output_type": "stream",
          "text": [
            "device,  cuda:0\n"
          ],
          "name": "stdout"
        },
        {
          "output_type": "execute_result",
          "data": {
            "text/plain": [
              "Generator(\n",
              "  (conv): Sequential(\n",
              "    (0): Conv1d(1, 64, kernel_size=(3,), stride=(2,))\n",
              "    (1): ReLU()\n",
              "    (2): Conv1d(64, 64, kernel_size=(3,), stride=(2,))\n",
              "    (3): ReLU()\n",
              "  )\n",
              "  (linear): Sequential(\n",
              "    (0): Linear(in_features=3776, out_features=512, bias=True)\n",
              "    (1): ReLU()\n",
              "    (2): Linear(in_features=512, out_features=128, bias=True)\n",
              "  )\n",
              "  (de_fc1): Sequential(\n",
              "    (0): Linear(in_features=128, out_features=4096, bias=True)\n",
              "    (1): ReLU()\n",
              "  )\n",
              "  (de_conv): Sequential(\n",
              "    (0): ConvTranspose1d(128, 64, kernel_size=(3,), stride=(2,), padding=(2,))\n",
              "    (1): ConvTranspose1d(64, 32, kernel_size=(3,), stride=(2,), padding=(2,))\n",
              "    (2): ConvTranspose1d(32, 1, kernel_size=(3,), stride=(2,), padding=(2,))\n",
              "  )\n",
              "  (adjust_linear): Sequential(\n",
              "    (0): Linear(in_features=235, out_features=241, bias=True)\n",
              "    (1): ReLU()\n",
              "  )\n",
              ")"
            ]
          },
          "metadata": {
            "tags": []
          },
          "execution_count": 8
        }
      ]
    },
    {
      "cell_type": "markdown",
      "metadata": {
        "id": "fofwexSxcLdd"
      },
      "source": [
        "## visualize"
      ]
    },
    {
      "cell_type": "code",
      "metadata": {
        "id": "T0ZBUAA3cLde"
      },
      "source": [
        "def laser_visual(lasers=[], show=False, range_limit=6):\n",
        "    colors = ['#3483EB','#FFA500','#15B01D']\n",
        "    fig = plt.figure(figsize=(8, 8))\n",
        "    for i, l in enumerate(lasers):\n",
        "        # fig = plt.figure(figsize=(8, 8))\n",
        "        angle = 120\n",
        "        xp = []\n",
        "        yp = []\n",
        "        for r in l:\n",
        "            if r <= range_limit:\n",
        "                yp.append(r * math.cos(math.radians(angle)))\n",
        "                xp.append(r * math.sin(math.radians(angle)))\n",
        "            angle -= 1\n",
        "        plt.xlim(-6, 6)\n",
        "        plt.ylim(-6, 6)\n",
        "        # plt.axis('off')\n",
        "        plt.plot(xp, yp, 'x', color=colors[i])\n",
        "    plt.show()\n"
      ],
      "execution_count": 9,
      "outputs": []
    },
    {
      "cell_type": "code",
      "metadata": {
        "scrolled": false,
        "id": "IFUUegxMcLdg",
        "outputId": "a56a43ef-4603-454f-fe7b-5e57fd3d9542",
        "colab": {
          "base_uri": "https://localhost:8080/",
          "height": 487
        }
      },
      "source": [
        "data1 = None\n",
        "for mm_scan, laser_scan in loader:\n",
        "    mm_scan = mm_scan.to(device)\n",
        "    x_hat = model(mm_scan)\n",
        "    \n",
        "    x = x_hat.detach().cpu().numpy().reshape(batch_size,-1)[0]\n",
        "    laser = laser_scan.numpy().reshape(batch_size,-1)[0]\n",
        "    mm = mm_scan.detach().cpu().numpy().reshape(batch_size,-1)[0]\n",
        "    \n",
        "    laser_visual([laser, x, mm], show=True, range_limit=4.9)\n",
        "    data1 = [laser, x, mm]\n",
        "    \n",
        "    break"
      ],
      "execution_count": 15,
      "outputs": [
        {
          "output_type": "display_data",
          "data": {
            "image/png": "[encoded data removed]",
            "text/plain": [
              "<Figure size 576x576 with 1 Axes>"
            ]
          },
          "metadata": {
            "tags": [],
            "needs_background": "light"
          }
        }
      ]
    },
    {
      "cell_type": "code",
      "metadata": {
        "id": "rNiHJNispA6U"
      },
      "source": [
        ""
      ],
      "execution_count": 10,
      "outputs": []
    }
  ]
}