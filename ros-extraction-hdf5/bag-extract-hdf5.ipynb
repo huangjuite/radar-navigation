{
 "cells": [
  {
   "cell_type": "code",
   "execution_count": 1,
   "metadata": {},
   "outputs": [],
   "source": [
    "import sys\n",
    "import rosbag\n",
    "import time\n",
    "import rospy\n",
    "import os\n",
    "import argparse\n",
    "import math\n",
    "import re\n",
    "import h5py\n",
    "import numpy as np\n",
    "import ros_numpy\n",
    "import matplotlib.pyplot as plt\n",
    "from sensor_msgs.msg import Image, PointCloud2, PointField\n",
    "from cv_bridge import CvBridge, CvBridgeError\n",
    "from tqdm import tqdm, trange"
   ]
  },
  {
   "cell_type": "markdown",
   "metadata": {},
   "source": [
    "## user define\n",
    "- frame rate\n",
    "- chunck length\n",
    "- bags directory\n",
    "- output file path/name\n",
    "- topics need to transfer\n",
    "- reference\n",
    "    - https://support.hdfgroup.org/HDF5/doc/Advanced/Chunking/\n",
    "    - http://docs.h5py.org/en/stable/high/dataset.html"
   ]
  },
  {
   "cell_type": "code",
   "execution_count": 2,
   "metadata": {},
   "outputs": [],
   "source": [
    "frame_rate = 5  # Hz\n",
    "chunck_len = 512  # number of frames in .hdf5 file\n",
    "\n",
    "date_time = '0727_1005'\n",
    "\n",
    "bags_dir = '/media/ray/ARG_SSD/0727/'+date_time\n",
    "output_dir = '/media/ray/intelSSD/mmdemo_'+date_time+'/'\n",
    "try:\n",
    "    os.mkdir(output_dir)\n",
    "except:\n",
    "    pass\n",
    "\n",
    "output_file_prefix = output_dir + 'mmdemo_'+date_time\n",
    "\n",
    "topic_list = {\n",
    "    '/husky2/velodyne1/velodyne_points': 'lidar',\n",
    "    '/husky2/mmwave_mapping':'mmwave',\n",
    "    '/husky2/RL/scan_mmwave':'mmwave_scan',\n",
    "    '/husky2/RL/scan':'laser_scan',\n",
    "    '/husky2/husky_velocity_controller/cmd_vel':'action',\n",
    "    '/husky2/husky_velocity_controller/odom':'odom'\n",
    "}\n",
    "\n",
    "#info for meta\n",
    "meta_info = {\n",
    "    'vehicle':'husky',\n",
    "    'place':'EE',\n",
    "    'date_time':date_time,\n",
    "    'frame_rate':frame_rate,\n",
    "}\n"
   ]
  },
  {
   "cell_type": "markdown",
   "metadata": {},
   "source": [
    "## user define \n",
    "msg to numpy array\n",
    "\n",
    "ros_numpy : https://github.com/eric-wieser/ros_numpy\n",
    "\n",
    "- image (width,height,channel)\n",
    "- point cloud (xyz, number_of_points)"
   ]
  },
  {
   "cell_type": "code",
   "execution_count": 3,
   "metadata": {},
   "outputs": [],
   "source": [
    "def msg_to_np(topic,msg):\n",
    "    data = None\n",
    "    if topic == '/husky2/velodyne1/velodyne_points':\n",
    "        data_tmp = ros_numpy.point_cloud2.pointcloud2_to_xyz_array(\n",
    "            msg)\n",
    "        # swapaxis (3,points_number)\n",
    "        data_tmp = np.swapaxes(data_tmp, 1, 0)\n",
    "        data = []\n",
    "        for i in range(data_tmp.shape[0]):\n",
    "            data.append(np.array(data_tmp[i]))\n",
    "\n",
    "    elif topic == '/husky2/mmwave_mapping':\n",
    "        data_tmp = ros_numpy.point_cloud2.pointcloud2_to_xyz_array(\n",
    "            msg)\n",
    "        # swapaxis (3,points_number)\n",
    "        data_tmp = np.swapaxes(data_tmp, 1, 0)\n",
    "        data = []\n",
    "        for i in range(data_tmp.shape[0]):\n",
    "            data.append(np.array(data_tmp[i]))\n",
    "            \n",
    "    elif topic=='/husky2/RL/scan_mmwave':\n",
    "        data = np.clip(np.array(msg.ranges,dtype=np.dtype('float32')),0,5)\n",
    "        \n",
    "    elif topic=='/husky2/RL/scan':\n",
    "        data = np.clip(np.array(msg.ranges,dtype=np.dtype('float32')),0,5)\n",
    "    \n",
    "    elif topic=='/husky2/husky_velocity_controller/cmd_vel':\n",
    "        data = np.array([msg.linear.x,msg.angular.z])\n",
    "        data = data / 0.4\n",
    "        data = np.clip(data,[0,-1],[1,1]).astype(np.dtype('float32'))\n",
    "        \n",
    "    elif topic=='/husky2/husky_velocity_controller/odom':\n",
    "        data = np.array([msg.pose.pose.position.x,msg.pose.pose.position.y],dtype=np.dtype('float32'))\n",
    "        \n",
    "    return data"
   ]
  },
  {
   "cell_type": "markdown",
   "metadata": {},
   "source": [
    "## add dataset\n",
    "    lidar has unknown length data\n",
    "    need to use special_dtype"
   ]
  },
  {
   "cell_type": "code",
   "execution_count": 4,
   "metadata": {},
   "outputs": [],
   "source": [
    "def add_dataset(f, key, data, chunck_len):\n",
    "    if key == 'lidar' or key =='mmwave':\n",
    "        dt = h5py.special_dtype(vlen=np.dtype('float32'))\n",
    "        shape = (chunck_len, 3)\n",
    "        max_shape = (None, 3)\n",
    "    else:\n",
    "        dt = data.dtype\n",
    "        shape = (chunck_len,) + data.shape\n",
    "        max_shape = (None,) + data.shape\n",
    "    \n",
    "    return f.create_dataset(key, shape=shape,\n",
    "                        maxshape=max_shape, dtype=dt, chunks=True)"
   ]
  },
  {
   "cell_type": "code",
   "execution_count": 5,
   "metadata": {},
   "outputs": [],
   "source": [
    "def add_meta(f, step):\n",
    "    meta = f.create_group('metadata')\n",
    "    \n",
    "    for i,(key,value) in enumerate(meta_info.items()):\n",
    "        meta.attrs[key] = value\n",
    "    \n",
    "    for i,(key,value) in enumerate(topic_list.items()):\n",
    "        meta.attrs[value] = key\n",
    "        \n",
    "    meta.attrs[\"trajectory_length\"] = step"
   ]
  },
  {
   "cell_type": "markdown",
   "metadata": {},
   "source": [
    "## start process bags\n",
    "rosbag : http://wiki.ros.org/rosbag/Code%20API"
   ]
  },
  {
   "cell_type": "code",
   "execution_count": 6,
   "metadata": {
    "scrolled": true
   },
   "outputs": [
    {
     "name": "stderr",
     "output_type": "stream",
     "text": [
      "frame:4842, drop:323 , bag:subt_2020-07-27-10-21-49_26.bag: 100%|██████████| 27/27 [02:50<00:00,  6.32s/it]"
     ]
    },
    {
     "name": "stdout",
     "output_type": "stream",
     "text": [
      "\n",
      "finish\n"
     ]
    },
    {
     "name": "stderr",
     "output_type": "stream",
     "text": [
      "\n"
     ]
    }
   ],
   "source": [
    "bags = os.listdir(bags_dir)[::-1]\n",
    "bags.sort()\n",
    "b = None\n",
    "frame = 0\n",
    "step = 0\n",
    "epi = 0\n",
    "tp = None\n",
    "dropped_frame = 0\n",
    "mark, report = {}, {}\n",
    "for value in topic_list.values():\n",
    "    mark.update({value:0})\n",
    "    report.update({value:[]})\n",
    "\n",
    "f = h5py.File(output_file_prefix+\"_%03d.hdf5\"%epi, 'w')\n",
    "    \n",
    "pbar = tqdm(bags)\n",
    "\n",
    "for bag_name in pbar:\n",
    "    b = rosbag.Bag(bags_dir+'/'+bag_name)\n",
    "    for topic, msg, t in b.read_messages(topic_list.keys()):\n",
    "        if tp is None:\n",
    "            tp = t\n",
    "        else:\n",
    "            if not topic_list[topic] in f.keys():\n",
    "                # create dataset\n",
    "                data = msg_to_np(topic,msg)\n",
    "                dset = add_dataset(f,topic_list[topic],data,chunck_len)\n",
    "\n",
    "            f[topic_list[topic]][step] = msg_to_np(topic,msg)\n",
    "            mark[topic_list[topic]] = 1\n",
    "            \n",
    "            # cut frame ------------------------------------------------------------------\n",
    "            if (t-tp).to_sec() > 1./frame_rate:\n",
    "                tp = t\n",
    "                drop = False\n",
    "                frame += 1\n",
    "                # if there is one msg missing in this frame\n",
    "                # drop this frame\n",
    "                for i, (key, value) in enumerate(mark.items()):\n",
    "                    report[key].append(value)\n",
    "                    if value is 0:\n",
    "                        drop = True\n",
    "                        dropped_frame += 1\n",
    "                    mark[key] = 0\n",
    "\n",
    "                pbar.set_description(\"frame:%d, drop:%d , bag:%s\"%(frame,dropped_frame,bag_name))\n",
    "                if not drop:\n",
    "                    step += 1\n",
    "                    if step == chunck_len:\n",
    "                        epi += 1\n",
    "                        add_meta(f,step)\n",
    "                        f.close()\n",
    "                        step = 0\n",
    "                        del f\n",
    "                        f = h5py.File(output_file_prefix+\"_%03d.hdf5\"%epi, 'w')\n",
    "                    # end if\n",
    "               # end if\n",
    "            # end if\n",
    "        # end if\n",
    "    # end for\n",
    "    b.close()\n",
    "    del b\n",
    "add_meta(f,step)\n",
    "f.close()\n",
    "print '\\nfinish'"
   ]
  },
  {
   "cell_type": "markdown",
   "metadata": {},
   "source": [
    "## status report\n",
    "    show the dropped frame numbers"
   ]
  },
  {
   "cell_type": "code",
   "execution_count": 7,
   "metadata": {
    "scrolled": false
   },
   "outputs": [
    {
     "data": {
      "image/png": "[encoded data removed]",
      "text/plain": [
       "<Figure size 432x288 with 1 Axes>"
      ]
     },
     "metadata": {
      "needs_background": "light"
     },
     "output_type": "display_data"
    },
    {
     "data": {
      "image/png": "[encoded data removed]",
      "text/plain": [
       "<Figure size 432x288 with 1 Axes>"
      ]
     },
     "metadata": {
      "needs_background": "light"
     },
     "output_type": "display_data"
    },
    {
     "data": {
      "image/png": "[encoded data removed]",
      "text/plain": [
       "<Figure size 432x288 with 1 Axes>"
      ]
     },
     "metadata": {
      "needs_background": "light"
     },
     "output_type": "display_data"
    },
    {
     "data": {
      "image/png": "[encoded data removed]",
      "text/plain": [
       "<Figure size 432x288 with 1 Axes>"
      ]
     },
     "metadata": {
      "needs_background": "light"
     },
     "output_type": "display_data"
    },
    {
     "data": {
      "image/png": "[encoded data removed]",
      "text/plain": [
       "<Figure size 432x288 with 1 Axes>"
      ]
     },
     "metadata": {
      "needs_background": "light"
     },
     "output_type": "display_data"
    },
    {
     "data": {
      "image/png": "[encoded data removed]",
      "text/plain": [
       "<Figure size 432x288 with 1 Axes>"
      ]
     },
     "metadata": {
      "needs_background": "light"
     },
     "output_type": "display_data"
    },
    {
     "data": {
      "image/png": "[encoded data removed]",
      "text/plain": [
       "<Figure size 432x288 with 1 Axes>"
      ]
     },
     "metadata": {
      "needs_background": "light"
     },
     "output_type": "display_data"
    }
   ],
   "source": [
    "stat = []\n",
    "for i, (key, value) in enumerate(report.items()):\n",
    "    stat.append(value)\n",
    "    plt.title(key)\n",
    "    plt.plot(value)\n",
    "    plt.show()\n",
    "total = np.sum(stat,axis=0)\n",
    "plt.title('total')\n",
    "plt.plot(total)\n",
    "plt.show()"
   ]
  },
  {
   "cell_type": "code",
   "execution_count": null,
   "metadata": {},
   "outputs": [],
   "source": []
  }
 ],
 "metadata": {
  "kernelspec": {
   "display_name": "Python 2",
   "language": "python",
   "name": "python2"
  },
  "language_info": {
   "codemirror_mode": {
    "name": "ipython",
    "version": 2
   },
   "file_extension": ".py",
   "mimetype": "text/x-python",
   "name": "python",
   "nbconvert_exporter": "python",
   "pygments_lexer": "ipython2",
   "version": "2.7.17"
  }
 },
 "nbformat": 4,
 "nbformat_minor": 2
}
